{
 "cells": [
  {
   "cell_type": "code",
   "execution_count": 1,
   "metadata": {
    "collapsed": false
   },
   "outputs": [
    {
     "name": "stderr",
     "output_type": "stream",
     "text": [
      "Using TensorFlow backend.\n"
     ]
    }
   ],
   "source": [
    "import pandas as pd\n",
    "from sklearn.preprocessing import StandardScaler\n",
    "from sklearn import preprocessing\n",
    "\n",
    "from keras.models import Sequential\n",
    "from keras.layers import Dense\n",
    "from keras import optimizers\n",
    "import numpy as np"
   ]
  },
  {
   "cell_type": "code",
   "execution_count": 2,
   "metadata": {
    "collapsed": true
   },
   "outputs": [],
   "source": [
    "bh_train = pd.read_csv('C:/Users/nisha/Documents/DATA 903/Machine Learning/Boston housing/bh_train.csv')\n",
    "bh_test = pd.read_csv('C:/Users/nisha/Documents/DATA 903/Machine Learning/Boston housing/bh_test.csv')"
   ]
  },
  {
   "cell_type": "code",
   "execution_count": 3,
   "metadata": {
    "collapsed": false
   },
   "outputs": [
    {
     "data": {
      "text/html": [
       "<div>\n",
       "<table border=\"1\" class=\"dataframe\">\n",
       "  <thead>\n",
       "    <tr style=\"text-align: right;\">\n",
       "      <th></th>\n",
       "      <th>crim</th>\n",
       "      <th>zn</th>\n",
       "      <th>indus</th>\n",
       "      <th>chas</th>\n",
       "      <th>nox</th>\n",
       "      <th>rm</th>\n",
       "      <th>age</th>\n",
       "      <th>dis</th>\n",
       "      <th>rad</th>\n",
       "      <th>tax</th>\n",
       "      <th>ptratio</th>\n",
       "      <th>black</th>\n",
       "      <th>lstat</th>\n",
       "      <th>medv</th>\n",
       "    </tr>\n",
       "  </thead>\n",
       "  <tbody>\n",
       "    <tr>\n",
       "      <th>0</th>\n",
       "      <td>0.00632</td>\n",
       "      <td>18.0</td>\n",
       "      <td>2.31</td>\n",
       "      <td>0</td>\n",
       "      <td>0.538</td>\n",
       "      <td>6.575</td>\n",
       "      <td>65.2</td>\n",
       "      <td>4.0900</td>\n",
       "      <td>1</td>\n",
       "      <td>296</td>\n",
       "      <td>15.3</td>\n",
       "      <td>396.90</td>\n",
       "      <td>4.98</td>\n",
       "      <td>24.0</td>\n",
       "    </tr>\n",
       "    <tr>\n",
       "      <th>1</th>\n",
       "      <td>0.02731</td>\n",
       "      <td>0.0</td>\n",
       "      <td>7.07</td>\n",
       "      <td>0</td>\n",
       "      <td>0.469</td>\n",
       "      <td>6.421</td>\n",
       "      <td>78.9</td>\n",
       "      <td>4.9671</td>\n",
       "      <td>2</td>\n",
       "      <td>242</td>\n",
       "      <td>17.8</td>\n",
       "      <td>396.90</td>\n",
       "      <td>9.14</td>\n",
       "      <td>21.6</td>\n",
       "    </tr>\n",
       "    <tr>\n",
       "      <th>2</th>\n",
       "      <td>0.03237</td>\n",
       "      <td>0.0</td>\n",
       "      <td>2.18</td>\n",
       "      <td>0</td>\n",
       "      <td>0.458</td>\n",
       "      <td>6.998</td>\n",
       "      <td>45.8</td>\n",
       "      <td>6.0622</td>\n",
       "      <td>3</td>\n",
       "      <td>222</td>\n",
       "      <td>18.7</td>\n",
       "      <td>394.63</td>\n",
       "      <td>2.94</td>\n",
       "      <td>33.4</td>\n",
       "    </tr>\n",
       "    <tr>\n",
       "      <th>3</th>\n",
       "      <td>0.06905</td>\n",
       "      <td>0.0</td>\n",
       "      <td>2.18</td>\n",
       "      <td>0</td>\n",
       "      <td>0.458</td>\n",
       "      <td>7.147</td>\n",
       "      <td>54.2</td>\n",
       "      <td>6.0622</td>\n",
       "      <td>3</td>\n",
       "      <td>222</td>\n",
       "      <td>18.7</td>\n",
       "      <td>396.90</td>\n",
       "      <td>5.33</td>\n",
       "      <td>36.2</td>\n",
       "    </tr>\n",
       "    <tr>\n",
       "      <th>4</th>\n",
       "      <td>0.08829</td>\n",
       "      <td>12.5</td>\n",
       "      <td>7.87</td>\n",
       "      <td>0</td>\n",
       "      <td>0.524</td>\n",
       "      <td>6.012</td>\n",
       "      <td>66.6</td>\n",
       "      <td>5.5605</td>\n",
       "      <td>5</td>\n",
       "      <td>311</td>\n",
       "      <td>15.2</td>\n",
       "      <td>395.60</td>\n",
       "      <td>12.43</td>\n",
       "      <td>22.9</td>\n",
       "    </tr>\n",
       "  </tbody>\n",
       "</table>\n",
       "</div>"
      ],
      "text/plain": [
       "      crim    zn  indus  chas    nox     rm   age     dis  rad  tax  ptratio  \\\n",
       "0  0.00632  18.0   2.31     0  0.538  6.575  65.2  4.0900    1  296     15.3   \n",
       "1  0.02731   0.0   7.07     0  0.469  6.421  78.9  4.9671    2  242     17.8   \n",
       "2  0.03237   0.0   2.18     0  0.458  6.998  45.8  6.0622    3  222     18.7   \n",
       "3  0.06905   0.0   2.18     0  0.458  7.147  54.2  6.0622    3  222     18.7   \n",
       "4  0.08829  12.5   7.87     0  0.524  6.012  66.6  5.5605    5  311     15.2   \n",
       "\n",
       "    black  lstat  medv  \n",
       "0  396.90   4.98  24.0  \n",
       "1  396.90   9.14  21.6  \n",
       "2  394.63   2.94  33.4  \n",
       "3  396.90   5.33  36.2  \n",
       "4  395.60  12.43  22.9  "
      ]
     },
     "execution_count": 3,
     "metadata": {},
     "output_type": "execute_result"
    }
   ],
   "source": [
    "bh_train.head()\n"
   ]
  },
  {
   "cell_type": "code",
   "execution_count": 4,
   "metadata": {
    "collapsed": false
   },
   "outputs": [
    {
     "data": {
      "text/plain": [
       "(333, 14)"
      ]
     },
     "execution_count": 4,
     "metadata": {},
     "output_type": "execute_result"
    }
   ],
   "source": [
    "bh_train.shape"
   ]
  },
  {
   "cell_type": "code",
   "execution_count": 5,
   "metadata": {
    "collapsed": false
   },
   "outputs": [
    {
     "data": {
      "text/plain": [
       "Index(['crim', 'zn', 'indus', 'chas', 'nox', 'rm', 'age', 'dis', 'rad', 'tax',\n",
       "       'ptratio', 'black', 'lstat', 'medv'],\n",
       "      dtype='object')"
      ]
     },
     "execution_count": 5,
     "metadata": {},
     "output_type": "execute_result"
    }
   ],
   "source": [
    "bh_train.columns\n"
   ]
  },
  {
   "cell_type": "code",
   "execution_count": 6,
   "metadata": {
    "collapsed": false
   },
   "outputs": [],
   "source": [
    "X_train = bh_train[['crim', 'zn', 'indus', 'chas', 'nox', 'rm', 'age', 'dis', 'rad', 'tax',\n",
    "       'ptratio', 'black', 'lstat']]\n",
    "\n",
    "y_train = bh_train['medv'] "
   ]
  },
  {
   "cell_type": "code",
   "execution_count": 7,
   "metadata": {
    "collapsed": false
   },
   "outputs": [],
   "source": [
    "X_test = bh_test[['crim', 'zn', 'indus', 'chas', 'nox', 'rm', 'age', 'dis', 'rad', 'tax',\n",
    "       'ptratio', 'black', 'lstat']]"
   ]
  },
  {
   "cell_type": "code",
   "execution_count": 8,
   "metadata": {
    "collapsed": true
   },
   "outputs": [],
   "source": [
    "#bh_test['medv'] is not there in test, it is empty"
   ]
  },
  {
   "cell_type": "code",
   "execution_count": 9,
   "metadata": {
    "collapsed": false
   },
   "outputs": [],
   "source": [
    "#convert to a matrix the x response\n",
    "X = X_train.as_matrix()\n",
    "Y = y_train.as_matrix()"
   ]
  },
  {
   "cell_type": "code",
   "execution_count": 10,
   "metadata": {
    "collapsed": false
   },
   "outputs": [],
   "source": [
    "#scaling the data\n",
    "Xmat = preprocessing.scale(X)"
   ]
  },
  {
   "cell_type": "code",
   "execution_count": 11,
   "metadata": {
    "collapsed": false
   },
   "outputs": [
    {
     "data": {
      "text/plain": [
       "(333, 13)"
      ]
     },
     "execution_count": 11,
     "metadata": {},
     "output_type": "execute_result"
    }
   ],
   "source": [
    "Xmat.shape"
   ]
  },
  {
   "cell_type": "code",
   "execution_count": 12,
   "metadata": {
    "collapsed": false
   },
   "outputs": [
    {
     "data": {
      "text/plain": [
       "array([24. , 21.6, 33.4, 36.2, 22.9, 15. , 18.9, 21.7, 20.4, 18.2, 19.9,\n",
       "       23.1, 20.2, 13.6, 19.6, 15.2, 14.5, 14.8, 12.7, 14.5, 13.5, 24.7,\n",
       "       30.8, 34.9, 25.3, 24.7, 21.2, 19.3, 20. , 16.6, 19.4, 19.7, 20.5,\n",
       "       23.4, 18.9, 35.4, 24.7, 31.6, 23.3, 18.7, 16. , 25. , 33. , 23.5,\n",
       "       19.4, 22. , 17.4, 24.2, 22.8, 23.4, 24.1, 21.4, 20. , 20.8, 28. ,\n",
       "       23.9, 22.9, 23.9, 26.6, 22.5, 22.2, 23.6, 28.7, 22.6, 25. , 20.6,\n",
       "       21.4, 27.5, 26.5, 18.6, 19.3, 19.5, 20.4, 19.8, 19.4, 22.8, 18.5,\n",
       "       21.2, 19.2, 20.4, 19.3, 22. , 20.3, 20.5, 17.3, 18.8, 15.7, 16.2,\n",
       "       18. , 19.6, 18.4, 15.6, 17.4, 17.1, 13.3, 17.8, 14.4, 13.4, 13.8,\n",
       "       14.6, 17.8, 15.4, 21.5, 19.4, 17. , 13.1, 24.3, 23.3, 27. , 50. ,\n",
       "       50. , 22.7, 25. , 50. , 23.8, 22.3, 17.4, 19.1, 23.1, 23.6, 22.6,\n",
       "       29.4, 23.2, 24.6, 29.9, 37.2, 39.8, 36.2, 37.9, 32.5, 50. , 32. ,\n",
       "       34.9, 37. , 30.5, 36.4, 31.1, 29.1, 30.3, 32.9, 24.1, 48.5, 50. ,\n",
       "       22.6, 24.4, 24.4, 19.3, 28.1, 23.7, 23.3, 21.7, 27.5, 30.1, 44.8,\n",
       "       50. , 37.6, 31.6, 31.5, 24.3, 41.7, 48.3, 29. , 24. , 25.1, 22. ,\n",
       "       22.2, 23.7, 17.6, 24.3, 24.5, 26.2, 24.4, 24.8, 42.8, 33.8, 43.1,\n",
       "       48.8, 31. , 36.5, 22.8, 30.7, 43.5, 25.2, 24.4, 35.2, 32.4, 35.1,\n",
       "       35.4, 46. , 50. , 32.2, 22. , 20.1, 22.3, 28.5, 27.9, 23.9, 27.1,\n",
       "       20.3, 22. , 26.4, 33.1, 36.1, 28.4, 33.4, 22.8, 20.3, 16.1, 22.1,\n",
       "       19.4, 16.2, 17.8, 19.8, 23.1, 23.8, 25. , 24.6, 22.2, 19.3, 19.8,\n",
       "       22.2, 20.7, 19.5, 20.6, 19. , 18.7, 32.7, 16.5, 23.9, 31.2, 23.1,\n",
       "       24.5, 26.6, 18.6, 17.8, 21.7, 22.7, 22.6, 25. , 20.8, 27.5, 21.9,\n",
       "       23.1, 50. , 50. , 50. , 50. , 13.8, 13.8, 13.9, 13.3, 11.3, 12.3,\n",
       "        8.8, 10.5,  7.4, 11.5, 23.2,  9.7, 12.7, 12.5,  5. ,  5.6,  7.2,\n",
       "        8.3, 27.9, 17.2, 16.3,  7. ,  7.2, 10.4,  8.8,  8.4, 11.7,  8.3,\n",
       "       10.9, 11. ,  9.5, 14.1, 16.1, 14.3, 11.7,  8.7, 12.8, 10.5, 17.1,\n",
       "       18.4, 15.4, 10.8, 11.8, 12.6, 14.1, 15.2, 16.1, 17.8, 14.1, 13.5,\n",
       "       14.9, 20. , 16.4, 17.7, 19.5, 20.2, 21.4, 19.9, 19. , 19.1, 19.1,\n",
       "       20.1, 19.6, 23.2, 13.8, 16.7, 12. , 14.6, 21.4, 23. , 23.7, 21.8,\n",
       "       20.6, 19.1, 20.6, 15.2,  8.1, 13.6, 20.1, 21.8, 18.3, 17.5, 22.4,\n",
       "       20.6, 23.9, 11.9])"
      ]
     },
     "execution_count": 12,
     "metadata": {},
     "output_type": "execute_result"
    }
   ],
   "source": [
    "Y"
   ]
  },
  {
   "cell_type": "code",
   "execution_count": 13,
   "metadata": {
    "collapsed": false
   },
   "outputs": [
    {
     "data": {
      "text/plain": [
       "array([[-0.45687496,  0.32290583, -1.28563081, ..., -1.46517068,\n",
       "         0.43298984, -1.06777158],\n",
       "       [-0.45401577, -0.47212294, -0.60442483, ..., -0.30161579,\n",
       "         0.43298984, -0.47829937],\n",
       "       [-0.45332651, -0.47212294, -1.30423517, ...,  0.11726397,\n",
       "         0.40673324, -1.35683968],\n",
       "       ...,\n",
       "       [-0.45156931, -0.47212294,  0.0910922 , ...,  1.18773447,\n",
       "         0.43298984, -0.48680137],\n",
       "       [-0.4494593 , -0.47212294,  0.0910922 , ...,  1.18773447,\n",
       "         0.43298984, -0.97424954],\n",
       "       [-0.4512778 , -0.47212294,  0.0910922 , ...,  1.18773447,\n",
       "         0.43298984, -0.65684143]])"
      ]
     },
     "execution_count": 13,
     "metadata": {},
     "output_type": "execute_result"
    }
   ],
   "source": [
    "Xmat "
   ]
  },
  {
   "cell_type": "code",
   "execution_count": 14,
   "metadata": {
    "collapsed": false
   },
   "outputs": [],
   "source": [
    "# converting np.array\n",
    "X_true = Xmat[:,0:14]\n",
    "y_true = Y"
   ]
  },
  {
   "cell_type": "code",
   "execution_count": 15,
   "metadata": {
    "collapsed": false
   },
   "outputs": [
    {
     "name": "stdout",
     "output_type": "stream",
     "text": [
      "13\n"
     ]
    }
   ],
   "source": [
    "# Save the number of columns in predictors: n_cols\n",
    "n_cols = X_true.shape[1]\n",
    "print(n_cols)\n",
    "# Set up the model: model\n",
    "model = Sequential()\n",
    "\n",
    "# Add the first layer\n",
    "model.add(Dense(50, activation='relu', input_shape=(n_cols,)))\n",
    "\n",
    "# Add the second layer\n",
    "model.add(Dense(32, activation='relu'))\n",
    "\n",
    "# Add the output layer\n",
    "model.add(Dense(1))\n"
   ]
  },
  {
   "cell_type": "code",
   "execution_count": 16,
   "metadata": {
    "collapsed": false
   },
   "outputs": [
    {
     "name": "stdout",
     "output_type": "stream",
     "text": [
      "Loss function: mean_squared_error\n",
      "Epoch 1/1\n",
      "333/333 [==============================] - 1s 2ms/step - loss: 597.1485\b\b\b\b\b\b\b\b\b\b\b\b\b\b\b\b\b\b\b\b\b\b\b\b\b\b\b\b\b\b\b\b\b\b\b\b\b\b\b\b\b\b\b\b\b\b\b\b\b\b\b\b\b\b\b\b\b\b\b\b\b\b\b\n"
     ]
    },
    {
     "data": {
      "text/plain": [
       "<keras.callbacks.History at 0x1ff99af7e10>"
      ]
     },
     "execution_count": 16,
     "metadata": {},
     "output_type": "execute_result"
    }
   ],
   "source": [
    "# Compile the model\n",
    "\n",
    "#sgd = optimizers.SGD(lr=0.1) #stochastic gradient descent\n",
    "#print(sgd)\n",
    "\n",
    "model.compile(optimizer = 'adam', loss = 'mean_squared_error') #Adaptive optimizer\n",
    "\n",
    "# sgd stands for stochastic gradient decent\n",
    "# model.compile(optimizer = 'sgd',loss = 'mean_squared_error')\n",
    "\n",
    "# Confirming that the model compiled correctly \n",
    "print(\"Loss function: \" + model.loss)\n",
    "\n",
    "# Fitting the model\n",
    "model.fit(X_true, y_true)"
   ]
  },
  {
   "cell_type": "code",
   "execution_count": 39,
   "metadata": {
    "collapsed": false
   },
   "outputs": [],
   "source": [
    "# Fitting the model but running through more epochs\n",
    "#model.fit(X_true, y_true, epochs = 35)\n",
    "from keras.callbacks import TensorBoard"
   ]
  },
  {
   "cell_type": "code",
   "execution_count": 38,
   "metadata": {
    "collapsed": false
   },
   "outputs": [
    {
     "name": "stdout",
     "output_type": "stream",
     "text": [
      "Epoch 1/35\n",
      "333/333 [==============================] - 0s 129us/step - loss: 13.2517\b\b\b\b\b\b\b\b\b\b\b\b\b\b\b\b\b\b\b\b\b\b\b\b\b\b\b\b\b\b\b\b\b\b\b\b\b\b\b\b\b\b\b\b\b\b\b\b\b\b\b\b\b\b\b\b\b\b\b\b\n",
      "Epoch 2/35\n",
      "333/333 [==============================] - 0s 121us/step - loss: 13.1794\b\b\b\b\b\b\b\b\b\b\b\b\b\b\b\b\b\b\b\b\b\b\b\b\b\b\b\b\b\b\b\b\b\b\b\b\b\b\b\b\b\b\b\b\b\b\b\b\b\b\b\b\b\b\b\b\b\b\b\b\n",
      "Epoch 3/35\n",
      "333/333 [==============================] - 0s 110us/step - loss: 13.0493\b\b\b\b\b\b\b\b\b\b\b\b\b\b\b\b\b\b\b\b\b\b\b\b\b\b\b\b\b\b\b\b\b\b\b\b\b\b\b\b\b\b\b\b\b\b\b\b\b\b\b\b\b\b\b\b\b\b\b\b\n",
      "Epoch 4/35\n",
      "333/333 [==============================] - 0s 96us/step - loss: 12.9879\b\b\b\b\b\b\b\b\b\b\b\b\b\b\b\b\b\b\b\b\b\b\b\b\b\b\b\b\b\b\b\b\b\b\b\b\b\b\b\b\b\b\b\b\b\b\b\b\b\b\b\b\b\b\b\b\b\b\b\n",
      "Epoch 5/35\n",
      "333/333 [==============================] - 0s 83us/step - loss: 12.8674\b\b\b\b\b\b\b\b\b\b\b\b\b\b\b\b\b\b\b\b\b\b\b\b\b\b\b\b\b\b\b\b\b\b\b\b\b\b\b\b\b\b\b\b\b\b\b\b\b\b\b\b\b\b\b\b\b\b\b\b\b\n",
      "Epoch 6/35\n",
      "333/333 [==============================] - 0s 74us/step - loss: 12.7567\b\b\b\b\b\b\b\b\b\b\b\b\b\b\b\b\b\b\b\b\b\b\b\b\b\b\b\b\b\b\b\b\b\b\b\b\b\b\b\b\b\b\b\b\b\b\b\b\b\b\b\b\b\b\b\b\b\b\b\b\b\n",
      "Epoch 7/35\n",
      "333/333 [==============================] - 0s 105us/step - loss: 12.6889\b\b\b\b\b\b\b\b\b\b\b\b\b\b\b\b\b\b\b\b\b\b\b\b\b\b\b\b\b\b\b\b\b\b\b\b\b\b\b\b\b\b\b\b\b\b\b\b\b\b\b\b\b\b\b\b\b\b\b\b\n",
      "Epoch 8/35\n",
      "333/333 [==============================] - 0s 108us/step - loss: 12.6035\b\b\b\b\b\b\b\b\b\b\b\b\b\b\b\b\b\b\b\b\b\b\b\b\b\b\b\b\b\b\b\b\b\b\b\b\b\b\b\b\b\b\b\b\b\b\b\b\b\b\b\b\b\b\b\b\b\b\b\b\n",
      "Epoch 9/35\n",
      "333/333 [==============================] - 0s 74us/step - loss: 12.5212\b\b\b\b\b\b\b\b\b\b\b\b\b\b\b\b\b\b\b\b\b\b\b\b\b\b\b\b\b\b\b\b\b\b\b\b\b\b\b\b\b\b\b\b\b\b\b\b\b\b\b\b\b\b\b\b\b\b\b\b\b\n",
      "Epoch 10/35\n",
      "333/333 [==============================] - 0s 89us/step - loss: 12.4418\b\b\b\b\b\b\b\b\b\b\b\b\b\b\b\b\b\b\b\b\b\b\b\b\b\b\b\b\b\b\b\b\b\b\b\b\b\b\b\b\b\b\b\b\b\b\b\b\b\b\b\b\b\b\b\b\b\b\b\b\b\n",
      "Epoch 11/35\n",
      "333/333 [==============================] - 0s 73us/step - loss: 12.3409\b\b\b\b\b\b\b\b\b\b\b\b\b\b\b\b\b\b\b\b\b\b\b\b\b\b\b\b\b\b\b\b\b\b\b\b\b\b\b\b\b\b\b\b\b\b\b\b\b\b\b\b\b\b\b\b\b\b\b\n",
      "Epoch 12/35\n",
      "333/333 [==============================] - 0s 105us/step - loss: 12.2691\b\b\b\b\b\b\b\b\b\b\b\b\b\b\b\b\b\b\b\b\b\b\b\b\b\b\b\b\b\b\b\b\b\b\b\b\b\b\b\b\b\b\b\b\b\b\b\b\b\b\b\b\b\b\b\b\b\b\b\b\n",
      "Epoch 13/35\n",
      "333/333 [==============================] - 0s 76us/step - loss: 12.1845\b\b\b\b\b\b\b\b\b\b\b\b\b\b\b\b\b\b\b\b\b\b\b\b\b\b\b\b\b\b\b\b\b\b\b\b\b\b\b\b\b\b\b\b\b\b\b\b\b\b\b\b\b\b\b\b\b\b\b\b\b\n",
      "Epoch 14/35\n",
      "333/333 [==============================] - 0s 92us/step - loss: 12.1168\b\b\b\b\b\b\b\b\b\b\b\b\b\b\b\b\b\b\b\b\b\b\b\b\b\b\b\b\b\b\b\b\b\b\b\b\b\b\b\b\b\b\b\b\b\b\b\b\b\b\b\b\b\b\b\b\b\b\b\b\b\n",
      "Epoch 15/35\n",
      "333/333 [==============================] - 0s 128us/step - loss: 12.0818\b\b\b\b\b\b\b\b\b\b\b\b\b\b\b\b\b\b\b\b\b\b\b\b\b\b\b\b\b\b\b\b\b\b\b\b\b\b\b\b\b\b\b\b\b\b\b\b\b\b\b\b\b\b\b\b\b\b\b\b\n",
      "Epoch 16/35\n",
      "333/333 [==============================] - 0s 80us/step - loss: 11.9935\b\b\b\b\b\b\b\b\b\b\b\b\b\b\b\b\b\b\b\b\b\b\b\b\b\b\b\b\b\b\b\b\b\b\b\b\b\b\b\b\b\b\b\b\b\b\b\b\b\b\b\b\b\b\b\b\b\b\b\b\b\n",
      "Epoch 17/35\n",
      "333/333 [==============================] - 0s 75us/step - loss: 11.9066\b\b\b\b\b\b\b\b\b\b\b\b\b\b\b\b\b\b\b\b\b\b\b\b\b\b\b\b\b\b\b\b\b\b\b\b\b\b\b\b\b\b\b\b\b\b\b\b\b\b\b\b\b\b\b\b\b\b\b\n",
      "Epoch 18/35\n",
      "333/333 [==============================] - 0s 89us/step - loss: 11.8381\b\b\b\b\b\b\b\b\b\b\b\b\b\b\b\b\b\b\b\b\b\b\b\b\b\b\b\b\b\b\b\b\b\b\b\b\b\b\b\b\b\b\b\b\b\b\b\b\b\b\b\b\b\b\b\b\b\b\b\b\b\n",
      "Epoch 19/35\n",
      "333/333 [==============================] - 0s 90us/step - loss: 11.7648\b\b\b\b\b\b\b\b\b\b\b\b\b\b\b\b\b\b\b\b\b\b\b\b\b\b\b\b\b\b\b\b\b\b\b\b\b\b\b\b\b\b\b\b\b\b\b\b\b\b\b\b\b\b\b\b\b\b\b\n",
      "Epoch 20/35\n",
      "333/333 [==============================] - 0s 21us/step - loss: 11.7128\b\b\b\b\b\b\b\b\b\b\b\b\b\b\b\b\b\b\b\b\b\b\b\b\b\b\b\b\b\b\b\b\b\b\b\b\b\b\b\b\b\b\b\b\b\b\b\b\b\b\b\b\b\b\b\b\b\b\b\n",
      "Epoch 21/35\n",
      "333/333 [==============================] - 0s 86us/step - loss: 11.6419\b\b\b\b\b\b\b\b\b\b\b\b\b\b\b\b\b\b\b\b\b\b\b\b\b\b\b\b\b\b\b\b\b\b\b\b\b\b\b\b\b\b\b\b\b\b\b\b\b\b\b\b\b\b\b\b\b\b\b\n",
      "Epoch 22/35\n",
      "333/333 [==============================] - 0s 67us/step - loss: 11.5824\b\b\b\b\b\b\b\b\b\b\b\b\b\b\b\b\b\b\b\b\b\b\b\b\b\b\b\b\b\b\b\b\b\b\b\b\b\b\b\b\b\b\b\b\b\b\b\b\b\b\b\b\b\b\b\b\b\b\b\b\b\n",
      "Epoch 23/35\n",
      "333/333 [==============================] - 0s 52us/step - loss: 11.4836\b\b\b\b\b\b\b\b\b\b\b\b\b\b\b\b\b\b\b\b\b\b\b\b\b\b\b\b\b\b\b\b\b\b\b\b\b\b\b\b\b\b\b\b\b\b\b\b\b\b\b\b\b\b\b\b\b\b\b\b\b\n",
      "Epoch 24/35\n",
      "333/333 [==============================] - 0s 59us/step - loss: 11.4515\b\b\b\b\b\b\b\b\b\b\b\b\b\b\b\b\b\b\b\b\b\b\b\b\b\b\b\b\b\b\b\b\b\b\b\b\b\b\b\b\b\b\b\b\b\b\b\b\b\b\b\b\b\b\b\b\b\b\b\n",
      "Epoch 25/35\n",
      "333/333 [==============================] - 0s 65us/step - loss: 11.3847\b\b\b\b\b\b\b\b\b\b\b\b\b\b\b\b\b\b\b\b\b\b\b\b\b\b\b\b\b\b\b\b\b\b\b\b\b\b\b\b\b\b\b\b\b\b\b\b\b\b\b\b\b\b\b\b\b\b\b\n",
      "Epoch 26/35\n",
      "333/333 [==============================] - 0s 68us/step - loss: 11.3264\b\b\b\b\b\b\b\b\b\b\b\b\b\b\b\b\b\b\b\b\b\b\b\b\b\b\b\b\b\b\b\b\b\b\b\b\b\b\b\b\b\b\b\b\b\b\b\b\b\b\b\b\b\b\b\b\b\b\b\n",
      "Epoch 27/35\n",
      "333/333 [==============================] - 0s 56us/step - loss: 11.2873\b\b\b\b\b\b\b\b\b\b\b\b\b\b\b\b\b\b\b\b\b\b\b\b\b\b\b\b\b\b\b\b\b\b\b\b\b\b\b\b\b\b\b\b\b\b\b\b\b\b\b\b\b\b\b\b\b\b\b\b\b\n",
      "Epoch 28/35\n",
      "333/333 [==============================] - 0s 53us/step - loss: 11.2400\b\b\b\b\b\b\b\b\b\b\b\b\b\b\b\b\b\b\b\b\b\b\b\b\b\b\b\b\b\b\b\b\b\b\b\b\b\b\b\b\b\b\b\b\b\b\b\b\b\b\b\b\b\b\b\b\b\b\b\n",
      "Epoch 29/35\n",
      "333/333 [==============================] - 0s 74us/step - loss: 11.1830\b\b\b\b\b\b\b\b\b\b\b\b\b\b\b\b\b\b\b\b\b\b\b\b\b\b\b\b\b\b\b\b\b\b\b\b\b\b\b\b\b\b\b\b\b\b\b\b\b\b\b\b\b\b\b\b\b\b\b\b\b\n",
      "Epoch 30/35\n",
      "333/333 [==============================] - 0s 74us/step - loss: 11.1409\b\b\b\b\b\b\b\b\b\b\b\b\b\b\b\b\b\b\b\b\b\b\b\b\b\b\b\b\b\b\b\b\b\b\b\b\b\b\b\b\b\b\b\b\b\b\b\b\b\b\b\b\b\b\b\b\b\b\b\n",
      "Epoch 31/35\n",
      "333/333 [==============================] - 0s 49us/step - loss: 11.0535\b\b\b\b\b\b\b\b\b\b\b\b\b\b\b\b\b\b\b\b\b\b\b\b\b\b\b\b\b\b\b\b\b\b\b\b\b\b\b\b\b\b\b\b\b\b\b\b\b\b\b\b\b\b\b\b\b\b\b\n",
      "Epoch 32/35\n",
      "333/333 [==============================] - 0s 68us/step - loss: 11.0309\b\b\b\b\b\b\b\b\b\b\b\b\b\b\b\b\b\b\b\b\b\b\b\b\b\b\b\b\b\b\b\b\b\b\b\b\b\b\b\b\b\b\b\b\b\b\b\b\b\b\b\b\b\b\b\b\b\b\b\b\b\n",
      "Epoch 33/35\n",
      "333/333 [==============================] - 0s 54us/step - loss: 10.9727\b\b\b\b\b\b\b\b\b\b\b\b\b\b\b\b\b\b\b\b\b\b\b\b\b\b\b\b\b\b\b\b\b\b\b\b\b\b\b\b\b\b\b\b\b\b\b\b\b\b\b\b\b\b\b\b\b\b\b\b\b\n",
      "Epoch 34/35\n",
      "333/333 [==============================] - 0s 67us/step - loss: 10.9216\b\b\b\b\b\b\b\b\b\b\b\b\b\b\b\b\b\b\b\b\b\b\b\b\b\b\b\b\b\b\b\b\b\b\b\b\b\b\b\b\b\b\b\b\b\b\b\b\b\b\b\b\b\b\b\b\b\b\b\n",
      "Epoch 35/35\n",
      "333/333 [==============================] - 0s 54us/step - loss: 10.9162\b\b\b\b\b\b\b\b\b\b\b\b\b\b\b\b\b\b\b\b\b\b\b\b\b\b\b\b\b\b\b\b\b\b\b\b\b\b\b\b\b\b\b\b\b\b\b\b\b\b\b\b\b\b\b\b\b\b\b\b\b\n"
     ]
    },
    {
     "data": {
      "text/plain": [
       "<keras.callbacks.History at 0x1ff9b375358>"
      ]
     },
     "execution_count": 38,
     "metadata": {},
     "output_type": "execute_result"
    }
   ],
   "source": [
    "model.fit(X_true, y_true, epochs = 35, verbose = 1, callbacks=[TensorBoard(log_dir='C:/temp/01')])"
   ]
  },
  {
   "cell_type": "code",
   "execution_count": 27,
   "metadata": {
    "collapsed": false
   },
   "outputs": [
    {
     "name": "stdout",
     "output_type": "stream",
     "text": [
      "[[34.493206 ]\n",
      " [28.821386 ]\n",
      " [16.68072  ]\n",
      " [11.438541 ]\n",
      " [16.008339 ]\n",
      " [15.956063 ]\n",
      " [18.42595  ]\n",
      " [15.16596  ]\n",
      " [12.375175 ]\n",
      " [15.179373 ]\n",
      " [19.128447 ]\n",
      " [20.150755 ]\n",
      " [ 9.888118 ]\n",
      " [13.674302 ]\n",
      " [21.772448 ]\n",
      " [19.363314 ]\n",
      " [22.881584 ]\n",
      " [32.768658 ]\n",
      " [13.702381 ]\n",
      " [28.264229 ]\n",
      " [18.009224 ]\n",
      " [20.664806 ]\n",
      " [20.806808 ]\n",
      " [22.354082 ]\n",
      " [17.387947 ]\n",
      " [20.544928 ]\n",
      " [24.058706 ]\n",
      " [27.822426 ]\n",
      " [19.902208 ]\n",
      " [29.560564 ]\n",
      " [45.088604 ]\n",
      " [42.90604  ]\n",
      " [37.029552 ]\n",
      " [20.152563 ]\n",
      " [17.12549  ]\n",
      " [19.041533 ]\n",
      " [15.14136  ]\n",
      " [14.847063 ]\n",
      " [12.899201 ]\n",
      " [20.158964 ]\n",
      " [17.14671  ]\n",
      " [22.69005  ]\n",
      " [22.890888 ]\n",
      " [18.972185 ]\n",
      " [15.509287 ]\n",
      " [15.846054 ]\n",
      " [15.539914 ]\n",
      " [15.829858 ]\n",
      " [19.457748 ]\n",
      " [20.155912 ]\n",
      " [18.016455 ]\n",
      " [34.758297 ]\n",
      " [43.969215 ]\n",
      " [21.583042 ]\n",
      " [21.599854 ]\n",
      " [24.224657 ]\n",
      " [28.995499 ]\n",
      " [42.875145 ]\n",
      " [40.692596 ]\n",
      " [39.090782 ]\n",
      " [31.092493 ]\n",
      " [39.86465  ]\n",
      " [13.818124 ]\n",
      " [15.281662 ]\n",
      " [18.711222 ]\n",
      " [19.021427 ]\n",
      " [22.022764 ]\n",
      " [25.011015 ]\n",
      " [19.533934 ]\n",
      " [25.148716 ]\n",
      " [29.106468 ]\n",
      " [38.007214 ]\n",
      " [33.96844  ]\n",
      " [33.696953 ]\n",
      " [26.080261 ]\n",
      " [24.819834 ]\n",
      " [18.53612  ]\n",
      " [12.8237915]\n",
      " [17.155035 ]\n",
      " [28.06283  ]\n",
      " [25.083658 ]\n",
      " [24.180143 ]\n",
      " [36.844616 ]\n",
      " [52.21715  ]\n",
      " [37.592567 ]\n",
      " [34.509815 ]\n",
      " [46.01553  ]\n",
      " [19.425585 ]\n",
      " [18.357439 ]\n",
      " [29.876295 ]\n",
      " [31.66268  ]\n",
      " [29.902975 ]\n",
      " [25.269682 ]\n",
      " [42.1519   ]\n",
      " [23.49523  ]\n",
      " [24.00619  ]\n",
      " [31.441044 ]\n",
      " [22.319933 ]\n",
      " [28.600092 ]\n",
      " [28.498049 ]\n",
      " [33.482395 ]\n",
      " [30.171934 ]\n",
      " [27.573599 ]\n",
      " [22.8612   ]\n",
      " [23.162287 ]\n",
      " [17.285454 ]\n",
      " [24.073374 ]\n",
      " [22.334843 ]\n",
      " [17.846468 ]\n",
      " [24.895153 ]\n",
      " [26.511683 ]\n",
      " [19.071692 ]\n",
      " [21.48969  ]\n",
      " [23.62063  ]\n",
      " [20.42954  ]\n",
      " [19.611765 ]\n",
      " [17.596815 ]\n",
      " [23.934431 ]\n",
      " [23.699112 ]\n",
      " [30.11048  ]\n",
      " [20.37305  ]\n",
      " [21.298609 ]\n",
      " [21.34927  ]\n",
      " [24.242588 ]\n",
      " [42.137794 ]\n",
      " [37.1481   ]\n",
      " [23.146769 ]\n",
      " [13.469185 ]\n",
      " [15.3708515]\n",
      " [18.359537 ]\n",
      " [16.144352 ]\n",
      " [13.277527 ]\n",
      " [14.253529 ]\n",
      " [20.862368 ]\n",
      " [21.08621  ]\n",
      " [19.938034 ]\n",
      " [19.227522 ]\n",
      " [12.313547 ]\n",
      " [17.47914  ]\n",
      " [ 8.711512 ]\n",
      " [10.821558 ]\n",
      " [17.40542  ]\n",
      " [16.234005 ]\n",
      " [15.078239 ]\n",
      " [15.17929  ]\n",
      " [10.4452915]\n",
      " [12.604809 ]\n",
      " [19.412981 ]\n",
      " [20.086096 ]\n",
      " [19.67763  ]\n",
      " [13.547619 ]\n",
      " [14.97853  ]\n",
      " [16.123142 ]\n",
      " [13.255558 ]\n",
      " [14.838494 ]\n",
      " [ 9.670311 ]\n",
      " [18.342615 ]\n",
      " [16.892916 ]\n",
      " [16.725315 ]\n",
      " [15.553794 ]\n",
      " [15.162054 ]\n",
      " [20.778507 ]\n",
      " [23.708193 ]\n",
      " [15.225197 ]\n",
      " [28.52135  ]\n",
      " [23.541046 ]\n",
      " [18.309938 ]\n",
      " [17.891678 ]\n",
      " [16.445284 ]\n",
      " [12.599923 ]\n",
      " [17.269848 ]\n",
      " [16.224478 ]\n",
      " [29.755175 ]]\n"
     ]
    }
   ],
   "source": [
    "# -------------------------\n",
    "# Making Predictions\n",
    "# -------------------------\n",
    "X_t = X_test.as_matrix()\n",
    "#scaling the data\n",
    "X_t_mat = preprocessing.scale(X_t)\n",
    "\n",
    "pred_data = X_t_mat[:,0:14] #first ten rows we're predicting\n",
    "pred_data\n",
    "# Calculate predictions: predictions\n",
    "predictions = model.predict(pred_data)\n",
    "print(predictions)\n"
   ]
  },
  {
   "cell_type": "code",
   "execution_count": 28,
   "metadata": {
    "collapsed": false
   },
   "outputs": [
    {
     "data": {
      "text/plain": [
       "(173, 1)"
      ]
     },
     "execution_count": 28,
     "metadata": {},
     "output_type": "execute_result"
    }
   ],
   "source": [
    "predictions.shape"
   ]
  },
  {
   "cell_type": "code",
   "execution_count": 29,
   "metadata": {
    "collapsed": false
   },
   "outputs": [
    {
     "data": {
      "text/plain": [
       "numpy.ndarray"
      ]
     },
     "execution_count": 29,
     "metadata": {},
     "output_type": "execute_result"
    }
   ],
   "source": [
    "type(predictions)"
   ]
  },
  {
   "cell_type": "code",
   "execution_count": 30,
   "metadata": {
    "collapsed": false
   },
   "outputs": [
    {
     "data": {
      "text/plain": [
       "22.46796"
      ]
     },
     "execution_count": 30,
     "metadata": {},
     "output_type": "execute_result"
    }
   ],
   "source": [
    "np.mean(predictions)"
   ]
  },
  {
   "cell_type": "code",
   "execution_count": 31,
   "metadata": {
    "collapsed": false
   },
   "outputs": [
    {
     "data": {
      "text/plain": [
       "20.158964"
      ]
     },
     "execution_count": 31,
     "metadata": {},
     "output_type": "execute_result"
    }
   ],
   "source": [
    "np.median(predictions)"
   ]
  },
  {
   "cell_type": "code",
   "execution_count": null,
   "metadata": {
    "collapsed": true
   },
   "outputs": [],
   "source": []
  },
  {
   "cell_type": "code",
   "execution_count": null,
   "metadata": {
    "collapsed": true
   },
   "outputs": [],
   "source": []
  }
 ],
 "metadata": {
  "kernelspec": {
   "display_name": "Python 3",
   "language": "python",
   "name": "python3"
  },
  "language_info": {
   "codemirror_mode": {
    "name": "ipython",
    "version": 3
   },
   "file_extension": ".py",
   "mimetype": "text/x-python",
   "name": "python",
   "nbconvert_exporter": "python",
   "pygments_lexer": "ipython3",
   "version": "3.6.0"
  }
 },
 "nbformat": 4,
 "nbformat_minor": 2
}
